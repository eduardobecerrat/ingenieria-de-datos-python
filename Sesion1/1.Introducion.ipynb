{
 "cells": [
  {
   "cell_type": "code",
   "execution_count": 2,
   "id": "121a25e1",
   "metadata": {},
   "outputs": [
    {
     "name": "stdout",
     "output_type": "stream",
     "text": [
      "Hola Mundo\n"
     ]
    }
   ],
   "source": [
    "print('Hola Mundo')"
   ]
  },
  {
   "cell_type": "code",
   "execution_count": 3,
   "id": "977999c9",
   "metadata": {},
   "outputs": [
    {
     "name": "stdout",
     "output_type": "stream",
     "text": [
      "Hola\n",
      "Salida\n"
     ]
    }
   ],
   "source": [
    "if True:\n",
    "    print('Hola')\n",
    "    x=40\n",
    "print('Salida')    "
   ]
  },
  {
   "cell_type": "code",
   "execution_count": 6,
   "id": "68154900",
   "metadata": {},
   "outputs": [
    {
     "data": {
      "text/plain": [
       "'Comentario doctring'"
      ]
     },
     "execution_count": 6,
     "metadata": {},
     "output_type": "execute_result"
    }
   ],
   "source": [
    "# comentario 1\n",
    "'''Comentario doctring'''\n"
   ]
  },
  {
   "cell_type": "code",
   "execution_count": 7,
   "id": "99f7fcfb",
   "metadata": {},
   "outputs": [],
   "source": [
    "#variables\n",
    "var1=''\n",
    "var2=1\n",
    "var3='Hazlo con datos'"
   ]
  },
  {
   "cell_type": "code",
   "execution_count": 8,
   "id": "72c6f8c3",
   "metadata": {},
   "outputs": [
    {
     "name": "stdout",
     "output_type": "stream",
     "text": [
      "1\n"
     ]
    }
   ],
   "source": [
    "print(var2)"
   ]
  },
  {
   "cell_type": "code",
   "execution_count": 9,
   "id": "48a7c3cd",
   "metadata": {},
   "outputs": [
    {
     "data": {
      "text/plain": [
       "'Hazlo con datos'"
      ]
     },
     "execution_count": 9,
     "metadata": {},
     "output_type": "execute_result"
    }
   ],
   "source": [
    "var3"
   ]
  },
  {
   "cell_type": "code",
   "execution_count": 10,
   "id": "01709506",
   "metadata": {},
   "outputs": [
    {
     "name": "stdout",
     "output_type": "stream",
     "text": [
      "<class 'str'>\n"
     ]
    }
   ],
   "source": [
    "print(type(var3))"
   ]
  },
  {
   "cell_type": "code",
   "execution_count": 11,
   "id": "15227c0a",
   "metadata": {},
   "outputs": [
    {
     "name": "stdout",
     "output_type": "stream",
     "text": [
      "<class 'int'>\n"
     ]
    }
   ],
   "source": [
    "print(type(var2))"
   ]
  },
  {
   "cell_type": "code",
   "execution_count": 12,
   "id": "6b82cfd6",
   "metadata": {},
   "outputs": [],
   "source": [
    "x,y,z='Manzana','Platano','Sandia'"
   ]
  },
  {
   "cell_type": "code",
   "execution_count": 13,
   "id": "c4dfbeda",
   "metadata": {},
   "outputs": [
    {
     "name": "stdout",
     "output_type": "stream",
     "text": [
      "Manzana\n",
      "Platano\n",
      "Sandia\n"
     ]
    }
   ],
   "source": [
    "print(x)\n",
    "print(y)\n",
    "print(z)"
   ]
  },
  {
   "cell_type": "code",
   "execution_count": 16,
   "id": "090bc907",
   "metadata": {},
   "outputs": [
    {
     "name": "stdout",
     "output_type": "stream",
     "text": [
      "[3, 'manzana', [1, 5, 'Platano']]\n"
     ]
    }
   ],
   "source": [
    "#Listas\n",
    "lista1=[]\n",
    "\n",
    "lista2=[3,5,8]\n",
    "\n",
    "lista3=['manzana','platano']\n",
    "\n",
    "lista4=[3,'manzana',3.4]\n",
    "\n",
    "lista5=[3,'manzana',[1,5,'Platano']]\n",
    "print(lista5)\n",
    "                     "
   ]
  },
  {
   "cell_type": "code",
   "execution_count": 18,
   "id": "a21433bc",
   "metadata": {},
   "outputs": [
    {
     "name": "stdout",
     "output_type": "stream",
     "text": [
      "[1, 5, 'Platano']\n"
     ]
    }
   ],
   "source": [
    "# operador indice []\n",
    "print(lista5[2])"
   ]
  },
  {
   "cell_type": "code",
   "execution_count": 19,
   "id": "12489cef",
   "metadata": {},
   "outputs": [
    {
     "name": "stdout",
     "output_type": "stream",
     "text": [
      "Platano\n"
     ]
    }
   ],
   "source": [
    "print(lista5[2][2])"
   ]
  },
  {
   "cell_type": "code",
   "execution_count": 20,
   "id": "7512785d",
   "metadata": {},
   "outputs": [
    {
     "name": "stdout",
     "output_type": "stream",
     "text": [
      "[1, 5, 'Platano']\n"
     ]
    }
   ],
   "source": [
    "print(lista5[-1])"
   ]
  },
  {
   "cell_type": "code",
   "execution_count": 21,
   "id": "f91aa87c",
   "metadata": {},
   "outputs": [
    {
     "name": "stdout",
     "output_type": "stream",
     "text": [
      "5\n"
     ]
    }
   ],
   "source": [
    "print(lista5[-1][-2])"
   ]
  },
  {
   "cell_type": "code",
   "execution_count": 72,
   "id": "bc0abe49",
   "metadata": {},
   "outputs": [],
   "source": [
    "lista6=[1,2,3,4,5,6,7,8,9]"
   ]
  },
  {
   "cell_type": "code",
   "execution_count": null,
   "id": "9910d512",
   "metadata": {},
   "outputs": [
    {
     "name": "stdout",
     "output_type": "stream",
     "text": [
      "[3, 4, 5, 6]\n"
     ]
    }
   ],
   "source": [
    "#Rangos\n",
    "print(lista6[2:6])"
   ]
  },
  {
   "cell_type": "code",
   "execution_count": 25,
   "id": "6bb5808a",
   "metadata": {},
   "outputs": [
    {
     "name": "stdout",
     "output_type": "stream",
     "text": [
      "[6, 7, 8, 9]\n"
     ]
    }
   ],
   "source": [
    "print(lista6[5:])"
   ]
  },
  {
   "cell_type": "code",
   "execution_count": 30,
   "id": "dc239eb9",
   "metadata": {},
   "outputs": [],
   "source": [
    "lista6[4]=10"
   ]
  },
  {
   "cell_type": "code",
   "execution_count": 66,
   "id": "29000fb5",
   "metadata": {},
   "outputs": [
    {
     "name": "stdout",
     "output_type": "stream",
     "text": [
      "[1, 2, 3, 4, 10, 6, 7, 8, 9, 11, 12, 13, 14]\n"
     ]
    }
   ],
   "source": [
    "print(lista6)"
   ]
  },
  {
   "cell_type": "code",
   "execution_count": 33,
   "id": "ea4a5f07",
   "metadata": {},
   "outputs": [],
   "source": [
    "lista6.append(11)"
   ]
  },
  {
   "cell_type": "code",
   "execution_count": 65,
   "id": "dfee3b39",
   "metadata": {},
   "outputs": [
    {
     "name": "stdout",
     "output_type": "stream",
     "text": [
      "[1, 2, 3, 4, 10, 6, 7, 8, 9, 11, 12, 13, 14]\n"
     ]
    }
   ],
   "source": [
    "print(lista6)"
   ]
  },
  {
   "cell_type": "code",
   "execution_count": 35,
   "id": "91469a87",
   "metadata": {},
   "outputs": [],
   "source": [
    "lista_aux=[12,13,14]"
   ]
  },
  {
   "cell_type": "code",
   "execution_count": 36,
   "id": "5f100b48",
   "metadata": {},
   "outputs": [],
   "source": [
    "lista6.append(lista_aux)"
   ]
  },
  {
   "cell_type": "code",
   "execution_count": 37,
   "id": "b5380a37",
   "metadata": {},
   "outputs": [
    {
     "name": "stdout",
     "output_type": "stream",
     "text": [
      "[1, 2, 3, 4, 10, 6, 7, 8, 9, 11, [12, 13, 14]]\n"
     ]
    }
   ],
   "source": [
    "print(lista6)"
   ]
  },
  {
   "cell_type": "code",
   "execution_count": 38,
   "id": "2a30c4a5",
   "metadata": {},
   "outputs": [],
   "source": [
    "lista6.extend(lista_aux)"
   ]
  },
  {
   "cell_type": "code",
   "execution_count": 39,
   "id": "852ff87a",
   "metadata": {},
   "outputs": [
    {
     "name": "stdout",
     "output_type": "stream",
     "text": [
      "[1, 2, 3, 4, 10, 6, 7, 8, 9, 11, [12, 13, 14], 12, 13, 14]\n"
     ]
    }
   ],
   "source": [
    "print(lista6)"
   ]
  },
  {
   "cell_type": "code",
   "execution_count": 40,
   "id": "66ac5279",
   "metadata": {},
   "outputs": [],
   "source": [
    "lista6.remove([12, 13, 14])"
   ]
  },
  {
   "cell_type": "code",
   "execution_count": 41,
   "id": "86277c9a",
   "metadata": {},
   "outputs": [
    {
     "name": "stdout",
     "output_type": "stream",
     "text": [
      "[1, 2, 3, 4, 10, 6, 7, 8, 9, 11, 12, 13, 14]\n"
     ]
    }
   ],
   "source": [
    "print(lista6)"
   ]
  },
  {
   "cell_type": "code",
   "execution_count": 43,
   "id": "498de213",
   "metadata": {},
   "outputs": [
    {
     "name": "stdout",
     "output_type": "stream",
     "text": [
      "manzana\n"
     ]
    }
   ],
   "source": [
    "#tuplas\n",
    "tuple=()\n",
    "tuple1=(3,4,5)\n",
    "\n",
    "tupla2=(1,3,'Manzana')\n",
    "\n",
    "tupla3=('manzana',2,4,(3,4,5))\n",
    "\n",
    "print(tupla3[0])"
   ]
  },
  {
   "cell_type": "code",
   "execution_count": 44,
   "id": "0f87675e",
   "metadata": {},
   "outputs": [
    {
     "ename": "TypeError",
     "evalue": "'tuple' object does not support item assignment",
     "output_type": "error",
     "traceback": [
      "\u001b[31m---------------------------------------------------------------------------\u001b[39m",
      "\u001b[31mTypeError\u001b[39m                                 Traceback (most recent call last)",
      "\u001b[36mCell\u001b[39m\u001b[36m \u001b[39m\u001b[32mIn[44]\u001b[39m\u001b[32m, line 1\u001b[39m\n\u001b[32m----> \u001b[39m\u001b[32m1\u001b[39m \u001b[43mtupla3\u001b[49m\u001b[43m[\u001b[49m\u001b[32;43m0\u001b[39;49m\u001b[43m]\u001b[49m=\u001b[32m8\u001b[39m\n",
      "\u001b[31mTypeError\u001b[39m: 'tuple' object does not support item assignment"
     ]
    }
   ],
   "source": [
    "tupla3[0]=8"
   ]
  },
  {
   "cell_type": "code",
   "execution_count": 49,
   "id": "bf93ed76",
   "metadata": {},
   "outputs": [],
   "source": [
    "#Diccionarios\n",
    "\n",
    "diccionario={}\n",
    "\n",
    "diccionario1={\n",
    "    1:'manzana',2:'balon'    \n",
    "}\n",
    "\n",
    "diccionario2={\n",
    "    'Nombre':'Juan',1:[2,3,4]\n",
    "}\n",
    "\n",
    "diccionario3={\n",
    "    'nombre':'Juan','edad':25,'telefono':987654321\n",
    "}\n",
    "\n"
   ]
  },
  {
   "cell_type": "code",
   "execution_count": 50,
   "id": "f49946dd",
   "metadata": {},
   "outputs": [
    {
     "name": "stdout",
     "output_type": "stream",
     "text": [
      "Juan\n"
     ]
    }
   ],
   "source": [
    "print(diccionario3['nombre'])"
   ]
  },
  {
   "cell_type": "code",
   "execution_count": 51,
   "id": "43bc5eb4",
   "metadata": {},
   "outputs": [
    {
     "name": "stdout",
     "output_type": "stream",
     "text": [
      "None\n"
     ]
    }
   ],
   "source": [
    "print(diccionario3.get('direccion'))"
   ]
  },
  {
   "cell_type": "code",
   "execution_count": 52,
   "id": "63520088",
   "metadata": {},
   "outputs": [],
   "source": [
    "diccionario3['direccion']='Calle Lima'"
   ]
  },
  {
   "cell_type": "code",
   "execution_count": 53,
   "id": "5c37d213",
   "metadata": {},
   "outputs": [
    {
     "name": "stdout",
     "output_type": "stream",
     "text": [
      "Calle Lima\n"
     ]
    }
   ],
   "source": [
    "print(diccionario3.get('direccion'))"
   ]
  },
  {
   "cell_type": "code",
   "execution_count": 54,
   "id": "32c88da9",
   "metadata": {},
   "outputs": [
    {
     "name": "stdout",
     "output_type": "stream",
     "text": [
      "{'nombre': 'Juan', 'edad': 25, 'telefono': 987654321, 'direccion': 'Calle Lima'}\n"
     ]
    }
   ],
   "source": [
    "print(diccionario3)"
   ]
  },
  {
   "cell_type": "code",
   "execution_count": 63,
   "id": "803075bc",
   "metadata": {},
   "outputs": [
    {
     "name": "stdout",
     "output_type": "stream",
     "text": [
      "True\n"
     ]
    }
   ],
   "source": [
    "#Control de flujo IF, FOR, WHILE,TRY EXCEPT\n",
    "var1=9\n",
    "\n",
    "if var1<11:\n",
    "    print('True')\n",
    "else:\n",
    "    print('False')\n",
    "\n"
   ]
  },
  {
   "cell_type": "code",
   "execution_count": 64,
   "id": "37204d35",
   "metadata": {},
   "outputs": [
    {
     "name": "stdout",
     "output_type": "stream",
     "text": [
      "True\n",
      "mayor a 8\n"
     ]
    }
   ],
   "source": [
    "if var1<11:\n",
    "    print('True')\n",
    "    if var1>8:\n",
    "        print('mayor a 8')\n",
    "else:\n",
    "    print('False')"
   ]
  },
  {
   "cell_type": "code",
   "execution_count": 69,
   "id": "86b78f17",
   "metadata": {},
   "outputs": [
    {
     "name": "stdout",
     "output_type": "stream",
     "text": [
      "[1, 2, 3, 4, 5, 6, 7, 8, 9]\n"
     ]
    }
   ],
   "source": [
    "#For\n",
    "print(lista6)"
   ]
  },
  {
   "cell_type": "code",
   "execution_count": 70,
   "id": "6e4f31e3",
   "metadata": {},
   "outputs": [
    {
     "name": "stdout",
     "output_type": "stream",
     "text": [
      "1\n",
      "2\n",
      "3\n",
      "4\n",
      "5\n",
      "6\n",
      "7\n",
      "8\n",
      "9\n"
     ]
    }
   ],
   "source": [
    "for item in lista6:\n",
    "    print(item)"
   ]
  },
  {
   "cell_type": "code",
   "execution_count": 71,
   "id": "62a25226",
   "metadata": {},
   "outputs": [
    {
     "name": "stdout",
     "output_type": "stream",
     "text": [
      "3\n",
      "6\n",
      "9\n",
      "12\n",
      "15\n",
      "18\n",
      "21\n",
      "24\n",
      "27\n"
     ]
    }
   ],
   "source": [
    "for item in lista6:\n",
    "    print(item*3)"
   ]
  },
  {
   "cell_type": "code",
   "execution_count": 73,
   "id": "5c9268fe",
   "metadata": {},
   "outputs": [
    {
     "name": "stdout",
     "output_type": "stream",
     "text": [
      "[1, 2, 3, 4, 5, 6, 7, 8, 9]\n"
     ]
    }
   ],
   "source": [
    "print(lista6)"
   ]
  },
  {
   "cell_type": "code",
   "execution_count": 75,
   "id": "4a104372",
   "metadata": {},
   "outputs": [
    {
     "name": "stdout",
     "output_type": "stream",
     "text": [
      "1\n",
      "2\n",
      "3\n",
      "4\n",
      "25\n",
      "6\n",
      "7\n",
      "8\n",
      "9\n"
     ]
    }
   ],
   "source": [
    "for item in lista6:\n",
    "    if item==5:\n",
    "        print(item*5)\n",
    "    else: \n",
    "        print(item)"
   ]
  },
  {
   "cell_type": "code",
   "execution_count": 78,
   "id": "4053bbf1",
   "metadata": {},
   "outputs": [
    {
     "name": "stdout",
     "output_type": "stream",
     "text": [
      "while\n",
      "while\n",
      "while\n",
      "while\n",
      "while\n"
     ]
    }
   ],
   "source": [
    "i=1\n",
    "\n",
    "while i<=5:\n",
    "   print('while')\n",
    "   i=i+1\n"
   ]
  },
  {
   "cell_type": "code",
   "execution_count": 79,
   "id": "cdeb175c",
   "metadata": {},
   "outputs": [],
   "source": [
    "#Funciones\n",
    "\n",
    "def nombre_funcion():\n",
    "    print('Hola Mundo')"
   ]
  },
  {
   "cell_type": "code",
   "execution_count": 80,
   "id": "165f3b13",
   "metadata": {},
   "outputs": [
    {
     "name": "stdout",
     "output_type": "stream",
     "text": [
      "Hola Mundo\n"
     ]
    }
   ],
   "source": [
    "nombre_funcion()"
   ]
  },
  {
   "cell_type": "code",
   "execution_count": 83,
   "id": "48b505c3",
   "metadata": {},
   "outputs": [],
   "source": [
    "def di_hola(nombre):\n",
    "    print('Hola',nombre)"
   ]
  },
  {
   "cell_type": "code",
   "execution_count": 84,
   "id": "1595fa30",
   "metadata": {},
   "outputs": [
    {
     "name": "stdout",
     "output_type": "stream",
     "text": [
      "Hola Juan\n"
     ]
    }
   ],
   "source": [
    "di_hola('Juan')"
   ]
  },
  {
   "cell_type": "code",
   "execution_count": 85,
   "id": "ce5b91db",
   "metadata": {},
   "outputs": [
    {
     "name": "stdout",
     "output_type": "stream",
     "text": [
      "Hola\n"
     ]
    }
   ],
   "source": [
    "saluda=lambda:'Hola'\n",
    "print(saluda())"
   ]
  }
 ],
 "metadata": {
  "kernelspec": {
   "display_name": "Python 3",
   "language": "python",
   "name": "python3"
  },
  "language_info": {
   "codemirror_mode": {
    "name": "ipython",
    "version": 3
   },
   "file_extension": ".py",
   "mimetype": "text/x-python",
   "name": "python",
   "nbconvert_exporter": "python",
   "pygments_lexer": "ipython3",
   "version": "3.12.1"
  }
 },
 "nbformat": 4,
 "nbformat_minor": 5
}
